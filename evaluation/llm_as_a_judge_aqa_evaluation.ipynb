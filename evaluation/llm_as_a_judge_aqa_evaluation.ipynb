{
 "cells": [
  {
   "cell_type": "code",
   "execution_count": 8,
   "id": "94489e20-7595-4591-8a69-949f1cbc5946",
   "metadata": {},
   "outputs": [],
   "source": [
    "import json\n",
    "from groq import Groq\n",
    "import os\n",
    "from sentence_transformers import SentenceTransformer\n",
    "from tqdm.auto import tqdm\n",
    "import pickle\n",
    "from elasticsearch import Elasticsearch\n",
    "import pandas as pd\n",
    "import requests\n",
    "import numpy as np\n",
    "from concurrent.futures import ThreadPoolExecutor\n",
    "from requests.exceptions import HTTPError\n",
    "import time"
   ]
  },
  {
   "cell_type": "code",
   "execution_count": 29,
   "id": "37a30e2a-fac2-4f66-9b58-291950304a49",
   "metadata": {},
   "outputs": [],
   "source": [
    "dataframes = []\n",
    "for i in range(1, 580):\n",
    "    file_path = f'../data/vietnamese_rag/evaluations_aqa/evaluations-aqa{i}.csv'\n",
    "    if os.path.exists(file_path):\n",
    "        # Read each CSV file into a DataFrame\n",
    "        df = pd.read_csv(file_path)\n",
    "        # Append the DataFrame to the list\n",
    "        dataframes.append(df)\n",
    "        # print(f\"{file_path} read successfully\")\n",
    "merged_df = pd.concat(dataframes, ignore_index=True)   "
   ]
  },
  {
   "cell_type": "code",
   "execution_count": 30,
   "id": "9a2e9b53-c66a-4ede-a835-e1096a3b84e5",
   "metadata": {},
   "outputs": [
    {
     "data": {
      "text/plain": [
       "(7388, 2)"
      ]
     },
     "execution_count": 30,
     "metadata": {},
     "output_type": "execute_result"
    }
   ],
   "source": [
    "merged_df.shape"
   ]
  },
  {
   "cell_type": "code",
   "execution_count": 31,
   "id": "8385709f-5c1a-44db-98bc-3fd5f7c36e4f",
   "metadata": {},
   "outputs": [
    {
     "data": {
      "text/plain": [
       "Relevance\n",
       "RELEVANT                 0.562940\n",
       "PARTLY_RELEVANT          0.329182\n",
       "NON_RELEVANT             0.106930\n",
       "NONE_RELEVANT            0.000271\n",
       "_Partly_Relevant         0.000135\n",
       "PARTELY_RELEVANT         0.000135\n",
       " части_relevant          0.000135\n",
       "_NON_RELEVANT            0.000135\n",
       "FURTHER_MORE_RELEVANT    0.000135\n",
       "Name: proportion, dtype: float64"
      ]
     },
     "execution_count": 31,
     "metadata": {},
     "output_type": "execute_result"
    }
   ],
   "source": [
    "merged_df['Relevance'].value_counts(normalize = True)"
   ]
  },
  {
   "cell_type": "code",
   "execution_count": 32,
   "id": "ae4e4d1d-bc6f-4cde-a5c9-385d95f96005",
   "metadata": {},
   "outputs": [],
   "source": [
    "mapping = {\n",
    "    'RELEVANT': 'RELEVANT',\n",
    "    'PARTLY_RELEVANT': 'PARTLY_RELEVANT',\n",
    "    'NON_RELEVANT': 'NON_RELEVANT',\n",
    "    'NONE_RELEVANT': 'NON_RELEVANT',\n",
    "    '_Partly_Relevant': 'PARTLY_RELEVANT',\n",
    "    'PARTELY_RELEVANT': 'PARTLY_RELEVANT',\n",
    "    ' части_relevant': 'PARTLY_RELEVANT',\n",
    "    '_NON_RELEVANT': 'NON_RELEVANT',\n",
    "    'FURTHER_MORE_RELEVANT': 'NON_RELEVANT'\n",
    "}\n",
    "\n",
    "# Apply the mapping to the 'Relevance' column\n",
    "merged_df['Relevance'] = merged_df['Relevance'].replace(mapping)"
   ]
  },
  {
   "cell_type": "code",
   "execution_count": 33,
   "id": "d0f4f946-a160-4fa7-982f-c9ba81c29eba",
   "metadata": {},
   "outputs": [
    {
     "data": {
      "text/plain": [
       "Relevance\n",
       "RELEVANT           0.562940\n",
       "PARTLY_RELEVANT    0.329589\n",
       "NON_RELEVANT       0.107472\n",
       "Name: proportion, dtype: float64"
      ]
     },
     "execution_count": 33,
     "metadata": {},
     "output_type": "execute_result"
    }
   ],
   "source": [
    "merged_df['Relevance'].value_counts(normalize = True)"
   ]
  },
  {
   "cell_type": "code",
   "execution_count": null,
   "id": "e7525c5c-b9e6-4773-a00f-98273cf31d44",
   "metadata": {},
   "outputs": [],
   "source": []
  }
 ],
 "metadata": {
  "kernelspec": {
   "display_name": "Python 3 (ipykernel)",
   "language": "python",
   "name": "python3"
  },
  "language_info": {
   "codemirror_mode": {
    "name": "ipython",
    "version": 3
   },
   "file_extension": ".py",
   "mimetype": "text/x-python",
   "name": "python",
   "nbconvert_exporter": "python",
   "pygments_lexer": "ipython3",
   "version": "3.12.1"
  }
 },
 "nbformat": 4,
 "nbformat_minor": 5
}
