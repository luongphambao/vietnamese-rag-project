{
 "cells": [
  {
   "cell_type": "code",
   "execution_count": 1,
   "id": "1befb995-9d2d-4aeb-854d-d62fdcb36ae9",
   "metadata": {},
   "outputs": [
    {
     "name": "stderr",
     "output_type": "stream",
     "text": [
      "/home/codespace/.local/lib/python3.12/site-packages/tqdm/auto.py:21: TqdmWarning: IProgress not found. Please update jupyter and ipywidgets. See https://ipywidgets.readthedocs.io/en/stable/user_install.html\n",
      "  from .autonotebook import tqdm as notebook_tqdm\n"
     ]
    }
   ],
   "source": [
    "import json\n",
    "from groq import Groq\n",
    "import os\n",
    "from sentence_transformers import SentenceTransformer\n",
    "from tqdm.auto import tqdm\n",
    "import pickle\n",
    "from elasticsearch import Elasticsearch\n",
    "import pandas as pd\n",
    "import requests\n",
    "import numpy as np\n",
    "from concurrent.futures import ThreadPoolExecutor\n",
    "from requests.exceptions import HTTPError\n",
    "import time"
   ]
  },
  {
   "cell_type": "code",
   "execution_count": 2,
   "id": "4303b651-baef-47a6-b130-b8e6918e7196",
   "metadata": {},
   "outputs": [],
   "source": [
    "dataframes = []\n",
    "for i in range(1, 580):\n",
    "    file_path = f'../data/vietnamese_rag/evaluations_qa/evaluations-qa{i}.csv'\n",
    "    if os.path.exists(file_path):\n",
    "        # Read each CSV file into a DataFrame\n",
    "        df = pd.read_csv(file_path)\n",
    "        # Append the DataFrame to the list\n",
    "        dataframes.append(df)\n",
    "        # print(f\"{file_path} read successfully\")\n",
    "merged_df = pd.concat(dataframes, ignore_index=True)   "
   ]
  },
  {
   "cell_type": "code",
   "execution_count": 3,
   "id": "70fecfab-9c11-4566-8f12-0535f9ab61a4",
   "metadata": {},
   "outputs": [
    {
     "data": {
      "text/plain": [
       "(8000, 2)"
      ]
     },
     "execution_count": 3,
     "metadata": {},
     "output_type": "execute_result"
    }
   ],
   "source": [
    "merged_df.shape"
   ]
  },
  {
   "cell_type": "code",
   "execution_count": 4,
   "id": "a293cf44-f16e-44a5-9573-00c7e03a868d",
   "metadata": {},
   "outputs": [
    {
     "data": {
      "text/plain": [
       "Relevance\n",
       "RELEVANT             0.799625\n",
       "PARTLY_RELEVANT      0.160250\n",
       "NON_RELEVANT         0.039875\n",
       "ROLELVENT            0.000125\n",
       "PARITALY_RELEVANT    0.000125\n",
       "Name: proportion, dtype: float64"
      ]
     },
     "execution_count": 4,
     "metadata": {},
     "output_type": "execute_result"
    }
   ],
   "source": [
    "merged_df['Relevance'].value_counts(normalize = True)"
   ]
  },
  {
   "cell_type": "code",
   "execution_count": 5,
   "id": "19f01e98-c069-4c9c-9a1a-d2e8b4ba8225",
   "metadata": {},
   "outputs": [],
   "source": [
    "mapping = {\n",
    "    'RELEVANT': 'RELEVANT',\n",
    "    'PARTLY_RELEVANT': 'PARTLY_RELEVANT',\n",
    "    'ROLELVENT': 'RELEVANT',\n",
    "    'NON_RELEVANT': 'NON_RELEVANT',\n",
    "    'PARITALY_RELEVANT': 'PARTLY_RELEVANT',\n",
    "}\n",
    "\n",
    "# Apply the mapping to the 'Relevance' column\n",
    "merged_df['Relevance'] = merged_df['Relevance'].replace(mapping)"
   ]
  },
  {
   "cell_type": "code",
   "execution_count": 6,
   "id": "33fc85af-ea63-429f-a43b-1241da24289e",
   "metadata": {},
   "outputs": [
    {
     "data": {
      "text/plain": [
       "Relevance\n",
       "RELEVANT           0.799750\n",
       "PARTLY_RELEVANT    0.160375\n",
       "NON_RELEVANT       0.039875\n",
       "Name: proportion, dtype: float64"
      ]
     },
     "execution_count": 6,
     "metadata": {},
     "output_type": "execute_result"
    }
   ],
   "source": [
    "merged_df['Relevance'].value_counts(normalize = True)"
   ]
  },
  {
   "cell_type": "code",
   "execution_count": null,
   "id": "f86864dd-bc7e-47bb-9ed1-7db164631ca4",
   "metadata": {},
   "outputs": [],
   "source": []
  }
 ],
 "metadata": {
  "kernelspec": {
   "display_name": "Python 3 (ipykernel)",
   "language": "python",
   "name": "python3"
  },
  "language_info": {
   "codemirror_mode": {
    "name": "ipython",
    "version": 3
   },
   "file_extension": ".py",
   "mimetype": "text/x-python",
   "name": "python",
   "nbconvert_exporter": "python",
   "pygments_lexer": "ipython3",
   "version": "3.12.1"
  }
 },
 "nbformat": 4,
 "nbformat_minor": 5
}
