{
 "cells": [
  {
   "cell_type": "code",
   "execution_count": 1,
   "id": "676f1797-fccf-4645-8860-aa34cebd4506",
   "metadata": {},
   "outputs": [
    {
     "name": "stderr",
     "output_type": "stream",
     "text": [
      "/home/codespace/.local/lib/python3.12/site-packages/tqdm/auto.py:21: TqdmWarning: IProgress not found. Please update jupyter and ipywidgets. See https://ipywidgets.readthedocs.io/en/stable/user_install.html\n",
      "  from .autonotebook import tqdm as notebook_tqdm\n"
     ]
    }
   ],
   "source": [
    "import json\n",
    "from datasets import load_dataset\n",
    "from tqdm.auto import tqdm"
   ]
  },
  {
   "cell_type": "code",
   "execution_count": 2,
   "id": "bc58d46a-7397-4b27-b96b-ed43c8cb1e2f",
   "metadata": {},
   "outputs": [],
   "source": [
    "rag_dataset = load_dataset(\"DuyTa/vi_RAG\", 'BKAI_RAG')\n",
    "rag_dataset1 = load_dataset(\"DuyTa/vi_RAG\", 'LegalRAG')\n",
    "rag_dataset2 = load_dataset(\"DuyTa/vi_RAG\", 'expert')"
   ]
  },
  {
   "cell_type": "code",
   "execution_count": 3,
   "id": "1cda12e7-e9f1-4871-883a-7b1078b005c0",
   "metadata": {},
   "outputs": [],
   "source": [
    "instances_list = []"
   ]
  },
  {
   "cell_type": "code",
   "execution_count": 4,
   "id": "e0a9ef9d-db9b-46bb-8e2d-da0386977dbd",
   "metadata": {},
   "outputs": [],
   "source": [
    "def create_data_json(rag_dataset, group_name):\n",
    "    # Iterate over each instance in the 'train' split\n",
    "    for instance in rag_dataset['train']:\n",
    "        # Create a dictionary for the current instance and append it to the list\n",
    "        instances_list.append({\n",
    "            \"group\": group_name,\n",
    "            \"context\": ''.join(instance[\"context\"][0]),\n",
    "            \"question\": instance[\"question\"],\n",
    "            \"answer\": instance[\"answer\"]\n",
    "        })"
   ]
  },
  {
   "cell_type": "code",
   "execution_count": 5,
   "id": "f1adc5bd-fc8c-4d81-853c-86d717aed3a1",
   "metadata": {},
   "outputs": [],
   "source": [
    "create_data_json(rag_dataset, \"General\")\n",
    "create_data_json(rag_dataset1, \"Legal\")"
   ]
  },
  {
   "cell_type": "code",
   "execution_count": 6,
   "id": "c0ab6172-0e40-496e-b5a4-80bfefd4335a",
   "metadata": {},
   "outputs": [],
   "source": [
    "for instance in rag_dataset2['train']:\n",
    "        # Create a dictionary for the current instance and append it to the list\n",
    "        instances_list.append({\n",
    "            \"group\": \"Expert\",\n",
    "            \"context\": instance[\"revised_claims\"],\n",
    "            \"question\": instance[\"question\"],\n",
    "            \"answer\": instance[\"revised_answer\"]\n",
    "        })"
   ]
  },
  {
   "cell_type": "code",
   "execution_count": 7,
   "id": "95adeb84-b82e-4b6e-980c-3a92c62ec64d",
   "metadata": {},
   "outputs": [
    {
     "name": "stderr",
     "output_type": "stream",
     "text": [
      "100%|██████████████████████████████████| 6089/6089 [00:00<00:00, 2530379.18it/s]"
     ]
    },
    {
     "name": "stdout",
     "output_type": "stream",
     "text": [
      "No context\n",
      "No context\n",
      "No context\n"
     ]
    },
    {
     "name": "stderr",
     "output_type": "stream",
     "text": [
      "\n"
     ]
    }
   ],
   "source": [
    "for doc in tqdm(instances_list):\n",
    "    context = doc['context']\n",
    "    if context is None:\n",
    "        doc['context'] = 'Ngữ cảnh không được cung cấp'\n",
    "        print(\"No context\")"
   ]
  },
  {
   "cell_type": "code",
   "execution_count": 8,
   "id": "ba02b659-b475-4dbf-81a5-1ff445c00108",
   "metadata": {},
   "outputs": [],
   "source": [
    "# Save the list of instances to a JSON file\n",
    "with open('../data/vietnamese_rag/documents.json', 'w', encoding='utf-8') as f:\n",
    "    json.dump(instances_list, f, ensure_ascii=False, indent=4)"
   ]
  },
  {
   "cell_type": "code",
   "execution_count": 9,
   "id": "f43ce8e7-7926-4de2-b9ec-05db835082f9",
   "metadata": {},
   "outputs": [],
   "source": [
    "with open('../data/vietnamese_rag/documents.json', 'rt') as f_in:\n",
    "    documents = json.load(f_in)"
   ]
  },
  {
   "cell_type": "markdown",
   "id": "e20036d3-29ef-42f9-aacc-9de37a2603d1",
   "metadata": {},
   "source": [
    "I already create documents with id files, but i have modified a little bit in the new documents.json file, so I want to reuse the id from the original documents for consistency"
   ]
  },
  {
   "cell_type": "code",
   "execution_count": 10,
   "id": "c3344aa0-2934-4569-a5cb-9cc6c5a0cfa2",
   "metadata": {},
   "outputs": [],
   "source": [
    "with open('../data/vietnamese_rag/documents-with-ids1.json', 'rt') as f_in:\n",
    "    documents1 = json.load(f_in)\n",
    "with open('../data/vietnamese_rag/documents-with-ids2.json', 'rt') as f_in:\n",
    "    documents2 = json.load(f_in)\n",
    "with open('../data/vietnamese_rag/documents-with-ids3.json', 'rt') as f_in:\n",
    "    documents3 = json.load(f_in)\n",
    "with open('../data/vietnamese_rag/documents-with-ids4.json', 'rt') as f_in:\n",
    "    documents4 = json.load(f_in)\n",
    "with open('../data/vietnamese_rag/documents-with-ids5.json', 'rt') as f_in:\n",
    "    documents5 = json.load(f_in)\n",
    "original_documents = documents1.copy()\n",
    "original_documents.extend(documents2)\n",
    "original_documents.extend(documents3)\n",
    "original_documents.extend(documents4)\n",
    "original_documents.extend(documents5)"
   ]
  },
  {
   "cell_type": "code",
   "execution_count": 11,
   "id": "aeba48ed-cdca-477b-a924-000341773c15",
   "metadata": {},
   "outputs": [
    {
     "data": {
      "text/plain": [
       "6089"
      ]
     },
     "execution_count": 11,
     "metadata": {},
     "output_type": "execute_result"
    }
   ],
   "source": [
    "len(original_documents)"
   ]
  },
  {
   "cell_type": "code",
   "execution_count": 12,
   "id": "020a1cf2-1099-4448-950c-a95cf9cf5345",
   "metadata": {},
   "outputs": [],
   "source": [
    "doc_id_list = []\n",
    "for doc in original_documents:\n",
    "    doc_id_list.append(doc['id'])"
   ]
  },
  {
   "cell_type": "code",
   "execution_count": 13,
   "id": "f1fb4666-0522-40ce-9f96-7a313d35ffd5",
   "metadata": {},
   "outputs": [],
   "source": [
    "for i in range(len(original_documents)):\n",
    "    documents[i]['id'] = doc_id_list[i]\n"
   ]
  },
  {
   "cell_type": "code",
   "execution_count": 14,
   "id": "1bcf9785-09c5-4806-8bdb-4bf36144ad66",
   "metadata": {},
   "outputs": [
    {
     "data": {
      "text/plain": [
       "{'group': 'General',\n",
       " 'context': \"ngữ cảnh 1: Vượt qua nỗi sợ hãi, Minh Tú xuất sắc vào chung kết Asia's Next Top Model.  Bỏ qua hết những lo lắng về căn bệnh tim, Minh Tú đã hết sức chế ngự sự sợ hãi và hoàn thành tốt phần thử thách đi catwalk khi bị treo lơ lửng trên một tòa nhà cao tầng và dành chiếc vé vào đêm chung kết Asia’s Next Top Model..  Tối ngày 21/6, tập 12 của chương trình Asia’ Next Top Model mùa thứ 5 đã được lên sóng. 4 thí sinh cùng giám khảo bí mật Xiao Qing bước vào phần thi thử thách đặc biệt là đi catwalk khi bị treo lơ lửng trên một tòa nhà cao tầng. Các cô gái phải vừa tạo dáng vừa thể hiện được sự mạnh mẽ, quyến rũ riêng.. Mặc dù có bệnh về tim nhưng Minh Tú đã cố gắng hết sức chế ngự sự sợ hãi và hoàn thành tốt phần thử thách này. Thí sinh chiến thắng là Shikin và đại diện Việt Nam cũng không kém cạnh gì khi xuất sắc xếp ở vị trí thứ 2, báo GĐVN đưa tin.. Bước vào thử thách, Minh Tú hét lớn: “Tôi còn nhiều việc chưa làm được đâu” vì sợ sẽ rơi xuống tuy nhiên chỉ sau vài bước đi, cô hoàn toàn xác định được cách catwalk. Càng tiến tới, Minh Tú càng cảm thấy thú vị, nỗi sợ hãi dần biến mất và tự tin tạo dáng giữa đường đi, nở nụ cười suốt 6 tầng lầu.. Minh Tú đã cố gắng hết sức chế ngự sự sợ hãi và hoàn thành tốt phần thử thách khó khăn này. Ảnh chụp màn hình. Theo tin tức trên báo VTC, chủ đề của buổi chụp ảnh loại trừ tuần này do chính thí sinh tạo nên từ đạo cụ, trang phục có sẵn. Minh Tú chọn cho mình hình ảnh một phụ nữ cổ điển và thành đạt đề giúp cô kiềm chế được nét gợi cảm của mình. Người đẹp nỗ lực không tạo dáng quá nhiều mà tập trung vào cơ mặt và nhân vật.. Minh Tú có bức hình đẹp thứ 2 và chắc chắn giành chiếc vé vào đêm chung kết. Ảnh: SW. Một lần nữa, Minh Tú lại nhận được sự tán thưởng từ dàn giám khảo. Giám đốc sáng tạo Yu Tsai cho biết anh “ngã mũ” trước phần thể hiện của Minh Tú. Sau khi “lộ mặt” là một giám khảo ẩn danh, cựu người mẫu Xiaoqing chia sẻ Minh Tú ngoài đam mê còn ẩn chứa tính cách triết lý và cho biết Minh Tú sẵn sàng cạnh tranh với một thí sinh mới chứ không hề kêu ca bất công.. Kết quả chung cuộc, Shikin là thí sinh có bức hình đẹp nhất. Về thứ 2 là Minh Tú và thứ 3 là Maureen. Clara là thí sinh bị loại trong tuần này. Như vậy, đại diện của Việt Nam đã tạo nên kỳ tích khi chính thức được bước vào Chung kết “Asia’s Next Top Model” năm nay để giành ngôi vị quán quân.\",\n",
       " 'question': 'Minh Tú đã đạt được thành tích gì trong chương trình Asia’ Next Top Model mùa thứ 5?',\n",
       " 'answer': 'Minh Tú đã vượt qua sự sợ hãi để hoàn thành tốt phần thử thách đi catwalk khi bị treo lơ lửng trên một tòa nhà cao tầng và đạt vị trí thứ 2 trong đêm chung kết của chương trình.',\n",
       " 'id': '75fafd29'}"
      ]
     },
     "execution_count": 14,
     "metadata": {},
     "output_type": "execute_result"
    }
   ],
   "source": [
    "documents[0]"
   ]
  },
  {
   "cell_type": "code",
   "execution_count": 15,
   "id": "759891b4-cde4-4fcd-921b-f98835adedd4",
   "metadata": {},
   "outputs": [],
   "source": [
    "with open('../data/vietnamese_rag/documents-with-ids.json', 'wt') as f_out:\n",
    "    json.dump(documents , f_out, indent=2)"
   ]
  },
  {
   "cell_type": "code",
   "execution_count": null,
   "id": "bdb03215-313e-4700-a403-75900701b2d3",
   "metadata": {},
   "outputs": [],
   "source": []
  }
 ],
 "metadata": {
  "kernelspec": {
   "display_name": "Python 3 (ipykernel)",
   "language": "python",
   "name": "python3"
  },
  "language_info": {
   "codemirror_mode": {
    "name": "ipython",
    "version": 3
   },
   "file_extension": ".py",
   "mimetype": "text/x-python",
   "name": "python",
   "nbconvert_exporter": "python",
   "pygments_lexer": "ipython3",
   "version": "3.12.1"
  }
 },
 "nbformat": 4,
 "nbformat_minor": 5
}
